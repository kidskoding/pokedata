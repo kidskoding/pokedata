{
 "cells": [
  {
   "cell_type": "code",
   "execution_count": 4,
   "id": "54fa2bc9",
   "metadata": {},
   "outputs": [
    {
     "name": "stderr",
     "output_type": "stream",
     "text": [
      "/Users/anirudh/UIUC/go-mama-27/personal-projects/pokedata/.venv/lib/python3.9/site-packages/urllib3/__init__.py:35: NotOpenSSLWarning: urllib3 v2 only supports OpenSSL 1.1.1+, currently the 'ssl' module is compiled with 'LibreSSL 2.8.3'. See: https://github.com/urllib3/urllib3/issues/3020\n",
      "  warnings.warn(\n"
     ]
    }
   ],
   "source": [
    "import os\n",
    "import pokebase as pb\n",
    "from IPython.display import Image, display\n",
    "from PIL import Image as PILImage\n",
    "import requests\n",
    "from io import BytesIO"
   ]
  },
  {
   "cell_type": "code",
   "execution_count": 5,
   "id": "92873f08",
   "metadata": {},
   "outputs": [],
   "source": [
    "def get_pokemon_sprites(name):\n",
    "    pokemon = pb.pokemon(name)\n",
    "    return (pokemon.sprites.front_default, pokemon.sprites.back_default)"
   ]
  },
  {
   "cell_type": "code",
   "execution_count": 6,
   "id": "293f6048",
   "metadata": {},
   "outputs": [
    {
     "data": {
      "text/html": [
       "<img src=\"https://raw.githubusercontent.com/PokeAPI/sprites/master/sprites/pokemon/392.png\"/>"
      ],
      "text/plain": [
       "<IPython.core.display.Image object>"
      ]
     },
     "metadata": {},
     "output_type": "display_data"
    },
    {
     "data": {
      "text/html": [
       "<img src=\"https://raw.githubusercontent.com/PokeAPI/sprites/master/sprites/pokemon/back/392.png\"/>"
      ],
      "text/plain": [
       "<IPython.core.display.Image object>"
      ]
     },
     "metadata": {},
     "output_type": "display_data"
    }
   ],
   "source": [
    "name = 'infernape'\n",
    "front, back = get_pokemon_sprites(name)\n",
    "display(Image(url=front))\n",
    "display(Image(url=back))"
   ]
  },
  {
   "cell_type": "code",
   "execution_count": 14,
   "id": "d4cbe4b5",
   "metadata": {},
   "outputs": [],
   "source": [
    "def save_pokemon_sprite(path, sprites):\n",
    "    sprite_dir = os.path.join(path, 'sprites')\n",
    "    os.makedirs(sprite_dir, exist_ok=True)\n",
    "    \n",
    "    res = requests.get(sprites[0])\n",
    "    img = PILImage.open(BytesIO(res.content))\n",
    "    filename = f\"{name}.png\"\n",
    "    \n",
    "    filepath = os.path.join(sprite_dir, filename)\n",
    "    img.save(filepath)\n",
    "    print(f\"saved pokemon {name} under {filename}\")"
   ]
  },
  {
   "cell_type": "code",
   "execution_count": 15,
   "id": "c69c1815",
   "metadata": {},
   "outputs": [
    {
     "name": "stdout",
     "output_type": "stream",
     "text": [
      "saved pokemon infernape under infernape.png\n"
     ]
    }
   ],
   "source": [
    "save_pokemon_sprite(os.curdir, get_pokemon_sprites(name))"
   ]
  }
 ],
 "metadata": {
  "kernelspec": {
   "display_name": ".venv",
   "language": "python",
   "name": "python3"
  },
  "language_info": {
   "codemirror_mode": {
    "name": "ipython",
    "version": 3
   },
   "file_extension": ".py",
   "mimetype": "text/x-python",
   "name": "python",
   "nbconvert_exporter": "python",
   "pygments_lexer": "ipython3",
   "version": "3.9.6"
  }
 },
 "nbformat": 4,
 "nbformat_minor": 5
}
