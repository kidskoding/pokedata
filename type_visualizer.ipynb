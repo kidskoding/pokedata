{
 "cells": [
  {
   "cell_type": "code",
   "execution_count": 1,
   "id": "cdb2da54",
   "metadata": {},
   "outputs": [
    {
     "name": "stderr",
     "output_type": "stream",
     "text": [
      "/Users/anirudh/UIUC/go-mama-27/personal-projects/pokedata/.venv/lib/python3.9/site-packages/urllib3/__init__.py:35: NotOpenSSLWarning: urllib3 v2 only supports OpenSSL 1.1.1+, currently the 'ssl' module is compiled with 'LibreSSL 2.8.3'. See: https://github.com/urllib3/urllib3/issues/3020\n",
      "  warnings.warn(\n"
     ]
    }
   ],
   "source": [
    "import pokebase as pb\n",
    "from IPython.display import Image, display\n",
    "import matplotlib.pyplot as plt\n",
    "import random\n",
    "import numpy as np"
   ]
  },
  {
   "cell_type": "code",
   "execution_count": 2,
   "id": "806d5cc1",
   "metadata": {},
   "outputs": [],
   "source": [
    "type_color = {\n",
    "    'normal': '#A8A77A', 'fire': '#EE8130', 'water': '#6390F0', 'electric': '#F7D02C',\n",
    "    'grass': '#7AC74C', 'ice': '#96D9D6', 'fighting': '#C22E28', 'poison': '#A33EA1',\n",
    "    'ground': '#E2BF65', 'flying': '#A98FF3', 'psychic': '#992ed2', 'bug': '#A6B91A',\n",
    "    'rock': '#B6A136', 'ghost': '#735797', 'dragon': '#705746', 'dark': '#000000',\n",
    "    'steel': '#B7B7CE', 'fairy': '#D685AD'\n",
    "}"
   ]
  },
  {
   "cell_type": "code",
   "execution_count": 3,
   "id": "b3db2740",
   "metadata": {},
   "outputs": [],
   "source": [
    "pokemon = []\n",
    "for _ in range(75):\n",
    "    pokemon.append(pb.pokemon(random.randint(1, 1008)))"
   ]
  },
  {
   "cell_type": "code",
   "execution_count": 4,
   "metadata": {},
   "outputs": [
    {
     "data": {
      "text/plain": [
       "['sliggoo',\n",
       " 'meditite',\n",
       " 'frillish',\n",
       " 'carnivine',\n",
       " 'regirock',\n",
       " 'raboot',\n",
       " 'purrloin',\n",
       " 'grimmsnarl',\n",
       " 'trevenant',\n",
       " 'ariados',\n",
       " 'gloom',\n",
       " 'victini',\n",
       " 'impidimp',\n",
       " 'gyarados',\n",
       " 'delcatty',\n",
       " 'venipede',\n",
       " 'gothita',\n",
       " 'gorebyss',\n",
       " 'kakuna',\n",
       " 'blissey',\n",
       " 'togetic',\n",
       " 'floatzel',\n",
       " 'thievul',\n",
       " 'illumise',\n",
       " 'dragalge',\n",
       " 'shroodle',\n",
       " 'dwebble',\n",
       " 'ledian',\n",
       " 'swablu',\n",
       " 'pachirisu',\n",
       " 'enamorus-incarnate',\n",
       " 'charjabug',\n",
       " 'eldegoss',\n",
       " 'mantyke',\n",
       " 'cyndaquil',\n",
       " 'mantine',\n",
       " 'crobat',\n",
       " 'scorbunny',\n",
       " 'victreebel',\n",
       " 'flittle',\n",
       " 'nymble',\n",
       " 'beldum',\n",
       " 'lurantis',\n",
       " 'poipole',\n",
       " 'slowking',\n",
       " 'monferno',\n",
       " 'slowbro',\n",
       " 'salazzle',\n",
       " 'breloom',\n",
       " 'patrat',\n",
       " 'magmortar',\n",
       " 'bulbasaur',\n",
       " 'urshifu-single-strike',\n",
       " 'dunsparce',\n",
       " 'wobbuffet',\n",
       " 'varoom',\n",
       " 'gogoat',\n",
       " 'zangoose',\n",
       " 'klang',\n",
       " 'bellossom',\n",
       " 'magcargo',\n",
       " 'frosmoth',\n",
       " 'abomasnow',\n",
       " 'heatmor',\n",
       " 'mabosstiff',\n",
       " 'staraptor',\n",
       " 'zeraora',\n",
       " 'tranquill',\n",
       " 'houndour',\n",
       " 'vanillish',\n",
       " 'spinda',\n",
       " 'dragalge',\n",
       " 'nuzleaf',\n",
       " 'escavalier',\n",
       " 'barraskewda']"
      ]
     },
     "execution_count": 4,
     "metadata": {},
     "output_type": "execute_result"
    }
   ],
   "source": [
    "[p.name for p in pokemon]"
   ]
  },
  {
   "cell_type": "code",
   "execution_count": 5,
   "id": "e3862430",
   "metadata": {},
   "outputs": [],
   "source": [
    "types = [type_slot.type.name for p in pokemon for type_slot in p.types]\n",
    "colors = [type_color.get(t, '#333333') for t in types]\n",
    "\n",
    "type_counts = []\n",
    "for x in types:\n",
    "    count = 0\n",
    "    for p in pokemon:\n",
    "        if any(slot.type.name == x for slot in p.types):\n",
    "            count += 1\n",
    "    type_counts.append(count)"
   ]
  },
  {
   "cell_type": "code",
   "execution_count": 6,
   "id": "d12a4ed8",
   "metadata": {},
   "outputs": [
    {
     "data": {
      "image/png": "[encoded data removed]",
      "text/plain": [
       "<Figure size 1500x600 with 1 Axes>"
      ]
     },
     "metadata": {},
     "output_type": "display_data"
    }
   ],
   "source": [
    "x = np.array(types)\n",
    "y = np.array(type_counts)\n",
    "\n",
    "plt.figure(figsize=(15, 6))\n",
    "plt.bar(x, y, color=colors)\n",
    "plt.title('Pokemon sorted by type')\n",
    "plt.show()"
   ]
  }
 ],
 "metadata": {
  "kernelspec": {
   "display_name": ".venv",
   "language": "python",
   "name": "python3"
  },
  "language_info": {
   "codemirror_mode": {
    "name": "ipython",
    "version": 3
   },
   "file_extension": ".py",
   "mimetype": "text/x-python",
   "name": "python",
   "nbconvert_exporter": "python",
   "pygments_lexer": "ipython3",
   "version": "3.9.6"
  }
 },
 "nbformat": 4,
 "nbformat_minor": 5
}
